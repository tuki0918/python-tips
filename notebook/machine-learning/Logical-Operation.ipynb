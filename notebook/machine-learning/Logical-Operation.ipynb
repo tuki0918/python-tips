{
 "cells": [
  {
   "cell_type": "code",
   "execution_count": 20,
   "metadata": {
    "collapsed": true
   },
   "outputs": [],
   "source": [
    "import numpy as np"
   ]
  },
  {
   "cell_type": "code",
   "execution_count": 21,
   "metadata": {
    "collapsed": true
   },
   "outputs": [],
   "source": [
    "def AND(x1, x2):\n",
    "    x = np.array([x1, x2])\n",
    "    w = np.array([0.5, 0.5])\n",
    "    b = -0.7\n",
    "    z = np.sum(w*x) + b\n",
    "    if z <= 0:\n",
    "        return 0\n",
    "    else:\n",
    "        return 1"
   ]
  },
  {
   "cell_type": "code",
   "execution_count": 22,
   "metadata": {
    "collapsed": false
   },
   "outputs": [
    {
     "name": "stdout",
     "output_type": "stream",
     "text": [
      "=== AND ===\n",
      "0, 0 => 0\n",
      "1, 0 => 0\n",
      "0, 1 => 0\n",
      "1, 1 => 1\n"
     ]
    }
   ],
   "source": [
    "print(\"=== AND ===\")\n",
    "print(\"0, 0 => {}\".format(AND(0, 0)))\n",
    "print(\"1, 0 => {}\".format(AND(1, 0)))\n",
    "print(\"0, 1 => {}\".format(AND(0, 1)))\n",
    "print(\"1, 1 => {}\".format(AND(1, 1)))"
   ]
  },
  {
   "cell_type": "code",
   "execution_count": 23,
   "metadata": {
    "collapsed": true
   },
   "outputs": [],
   "source": [
    "def NAND(x1, x2):\n",
    "    x = np.array([x1, x2])\n",
    "    w = np.array([-0.5, -0.5])\n",
    "    b = 0.7\n",
    "    z = np.sum(w*x) + b\n",
    "    if z <= 0:\n",
    "        return 0\n",
    "    else:\n",
    "        return 1"
   ]
  },
  {
   "cell_type": "code",
   "execution_count": 24,
   "metadata": {
    "collapsed": false
   },
   "outputs": [
    {
     "name": "stdout",
     "output_type": "stream",
     "text": [
      "=== NAND ===\n",
      "0, 0 => 1\n",
      "1, 0 => 1\n",
      "0, 1 => 1\n",
      "1, 1 => 0\n"
     ]
    }
   ],
   "source": [
    "print(\"=== NAND ===\")\n",
    "print(\"0, 0 => {}\".format(NAND(0, 0)))\n",
    "print(\"1, 0 => {}\".format(NAND(1, 0)))\n",
    "print(\"0, 1 => {}\".format(NAND(0, 1)))\n",
    "print(\"1, 1 => {}\".format(NAND(1, 1)))"
   ]
  },
  {
   "cell_type": "code",
   "execution_count": 25,
   "metadata": {
    "collapsed": true
   },
   "outputs": [],
   "source": [
    "def OR(x1, x2):\n",
    "    x = np.array([x1, x2])\n",
    "    w = np.array([0.5, 0.5])\n",
    "    b = -0.2\n",
    "    z = np.sum(w*x) + b\n",
    "    if z <= 0:\n",
    "        return 0\n",
    "    else:\n",
    "        return 1"
   ]
  },
  {
   "cell_type": "code",
   "execution_count": 26,
   "metadata": {
    "collapsed": false,
    "scrolled": true
   },
   "outputs": [
    {
     "name": "stdout",
     "output_type": "stream",
     "text": [
      "=== OR ===\n",
      "0, 0 => 0\n",
      "1, 0 => 1\n",
      "0, 1 => 1\n",
      "1, 1 => 1\n"
     ]
    }
   ],
   "source": [
    "print(\"=== OR ===\")\n",
    "print(\"0, 0 => {}\".format(OR(0, 0)))\n",
    "print(\"1, 0 => {}\".format(OR(1, 0)))\n",
    "print(\"0, 1 => {}\".format(OR(0, 1)))\n",
    "print(\"1, 1 => {}\".format(OR(1, 1)))"
   ]
  },
  {
   "cell_type": "code",
   "execution_count": 27,
   "metadata": {
    "collapsed": true
   },
   "outputs": [],
   "source": [
    "def XOR(x1, x2):\n",
    "    s1 = NAND(x1, x2)\n",
    "    s2 = OR(x1, x2)\n",
    "    y = AND(s1, s2)\n",
    "    return y"
   ]
  },
  {
   "cell_type": "code",
   "execution_count": 28,
   "metadata": {
    "collapsed": false
   },
   "outputs": [
    {
     "name": "stdout",
     "output_type": "stream",
     "text": [
      "=== XOR ===\n",
      "0, 0 => 0\n",
      "1, 0 => 1\n",
      "0, 1 => 1\n",
      "1, 1 => 0\n"
     ]
    }
   ],
   "source": [
    "print(\"=== XOR ===\")\n",
    "print(\"0, 0 => {}\".format(XOR(0, 0)))\n",
    "print(\"1, 0 => {}\".format(XOR(1, 0)))\n",
    "print(\"0, 1 => {}\".format(XOR(0, 1)))\n",
    "print(\"1, 1 => {}\".format(XOR(1, 1)))"
   ]
  },
  {
   "cell_type": "code",
   "execution_count": null,
   "metadata": {
    "collapsed": true
   },
   "outputs": [],
   "source": []
  }
 ],
 "metadata": {
  "kernelspec": {
   "display_name": "Python 3",
   "language": "python",
   "name": "python3"
  },
  "language_info": {
   "codemirror_mode": {
    "name": "ipython",
    "version": 3
   },
   "file_extension": ".py",
   "mimetype": "text/x-python",
   "name": "python",
   "nbconvert_exporter": "python",
   "pygments_lexer": "ipython3",
   "version": "3.6.0"
  }
 },
 "nbformat": 4,
 "nbformat_minor": 2
}
