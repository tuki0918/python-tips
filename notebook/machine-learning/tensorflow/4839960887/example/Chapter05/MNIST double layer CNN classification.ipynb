{
 "cells": [
  {
   "cell_type": "markdown",
   "metadata": {},
   "source": [
    "**[CNN-01]** 必要なモジュールをインポートして、乱数のシードを設定します。"
   ]
  },
  {
   "cell_type": "code",
   "execution_count": 1,
   "metadata": {
    "collapsed": true
   },
   "outputs": [],
   "source": [
    "import tensorflow as tf\n",
    "import numpy as np\n",
    "import matplotlib.pyplot as plt\n",
    "from tensorflow.examples.tutorials.mnist import input_data\n",
    "\n",
    "np.random.seed(20160704)\n",
    "tf.set_random_seed(20160704)"
   ]
  },
  {
   "cell_type": "markdown",
   "metadata": {},
   "source": [
    "**[CNN-02]** MNISTのデータセットを用意します。"
   ]
  },
  {
   "cell_type": "code",
   "execution_count": 2,
   "metadata": {
    "collapsed": false
   },
   "outputs": [
    {
     "name": "stdout",
     "output_type": "stream",
     "text": [
      "Extracting /tmp/data/train-images-idx3-ubyte.gz\n",
      "Extracting /tmp/data/train-labels-idx1-ubyte.gz\n",
      "Extracting /tmp/data/t10k-images-idx3-ubyte.gz\n",
      "Extracting /tmp/data/t10k-labels-idx1-ubyte.gz\n"
     ]
    }
   ],
   "source": [
    "mnist = input_data.read_data_sets(\"/tmp/data/\", one_hot=True)"
   ]
  },
  {
   "cell_type": "markdown",
   "metadata": {},
   "source": [
    "**[CNN-03]** 1段目の畳み込みフィルターとプーリング層を定義します。"
   ]
  },
  {
   "cell_type": "code",
   "execution_count": 3,
   "metadata": {
    "collapsed": false
   },
   "outputs": [],
   "source": [
    "num_filters1 = 32\n",
    "\n",
    "x = tf.placeholder(tf.float32, [None, 784])\n",
    "x_image = tf.reshape(x, [-1,28,28,1])\n",
    "\n",
    "W_conv1 = tf.Variable(tf.truncated_normal([5,5,1,num_filters1],\n",
    "                                          stddev=0.1))\n",
    "h_conv1 = tf.nn.conv2d(x_image, W_conv1,\n",
    "                       strides=[1,1,1,1], padding='SAME')\n",
    "\n",
    "b_conv1 = tf.Variable(tf.constant(0.1, shape=[num_filters1]))\n",
    "h_conv1_cutoff = tf.nn.relu(h_conv1 + b_conv1)\n",
    "\n",
    "h_pool1 = tf.nn.max_pool(h_conv1_cutoff, ksize=[1,2,2,1],\n",
    "                         strides=[1,2,2,1], padding='SAME')"
   ]
  },
  {
   "cell_type": "markdown",
   "metadata": {},
   "source": [
    "**[CNN-04]** 2段目の畳み込みフィルターとプーリング層を定義します。"
   ]
  },
  {
   "cell_type": "code",
   "execution_count": 4,
   "metadata": {
    "collapsed": false
   },
   "outputs": [],
   "source": [
    "num_filters2 = 64\n",
    "\n",
    "W_conv2 = tf.Variable(\n",
    "            tf.truncated_normal([5,5,num_filters1,num_filters2],\n",
    "                                stddev=0.1))\n",
    "h_conv2 = tf.nn.conv2d(h_pool1, W_conv2,\n",
    "                       strides=[1,1,1,1], padding='SAME')\n",
    "\n",
    "b_conv2 = tf.Variable(tf.constant(0.1, shape=[num_filters2]))\n",
    "h_conv2_cutoff = tf.nn.relu(h_conv2 + b_conv2)\n",
    "\n",
    "h_pool2 = tf.nn.max_pool(h_conv2_cutoff, ksize=[1,2,2,1],\n",
    "                         strides=[1,2,2,1], padding='SAME')"
   ]
  },
  {
   "cell_type": "markdown",
   "metadata": {},
   "source": [
    "**[CNN-05]** 全結合層、ドロップアウト層、ソフトマックス関数を定義します。"
   ]
  },
  {
   "cell_type": "code",
   "execution_count": 5,
   "metadata": {
    "collapsed": false
   },
   "outputs": [],
   "source": [
    "h_pool2_flat = tf.reshape(h_pool2, [-1, 7*7*num_filters2])\n",
    "\n",
    "num_units1 = 7*7*num_filters2\n",
    "num_units2 = 1024\n",
    "\n",
    "w2 = tf.Variable(tf.truncated_normal([num_units1, num_units2]))\n",
    "b2 = tf.Variable(tf.constant(0.1, shape=[num_units2]))\n",
    "hidden2 = tf.nn.relu(tf.matmul(h_pool2_flat, w2) + b2)\n",
    "\n",
    "keep_prob = tf.placeholder(tf.float32)\n",
    "hidden2_drop = tf.nn.dropout(hidden2, keep_prob)\n",
    "\n",
    "w0 = tf.Variable(tf.zeros([num_units2, 10]))\n",
    "b0 = tf.Variable(tf.zeros([10]))\n",
    "p = tf.nn.softmax(tf.matmul(hidden2_drop, w0) + b0)"
   ]
  },
  {
   "cell_type": "markdown",
   "metadata": {},
   "source": [
    "**[CNN-06]** 誤差関数 loss、トレーニングアルゴリズム train_step、正解率 accuracy を定義します。"
   ]
  },
  {
   "cell_type": "code",
   "execution_count": 6,
   "metadata": {
    "collapsed": true
   },
   "outputs": [],
   "source": [
    "t = tf.placeholder(tf.float32, [None, 10])\n",
    "loss = -tf.reduce_sum(t * tf.log(p))\n",
    "train_step = tf.train.AdamOptimizer(0.0001).minimize(loss)\n",
    "correct_prediction = tf.equal(tf.argmax(p, 1), tf.argmax(t, 1))\n",
    "accuracy = tf.reduce_mean(tf.cast(correct_prediction, tf.float32))"
   ]
  },
  {
   "cell_type": "markdown",
   "metadata": {},
   "source": [
    "**[CNN-07]** セッションを用意して、Variable を初期化します。"
   ]
  },
  {
   "cell_type": "code",
   "execution_count": 7,
   "metadata": {
    "collapsed": true
   },
   "outputs": [],
   "source": [
    "sess = tf.InteractiveSession()\n",
    "sess.run(tf.initialize_all_variables())\n",
    "saver = tf.train.Saver()"
   ]
  },
  {
   "cell_type": "markdown",
   "metadata": {},
   "source": [
    "**[CNN-08]** パラメーターの最適化を20000回繰り返します。\n",
    "\n",
    "最終的に、テストセットに対して約99%の正解率が得られます。"
   ]
  },
  {
   "cell_type": "code",
   "execution_count": 8,
   "metadata": {
    "collapsed": false
   },
   "outputs": [
    {
     "name": "stdout",
     "output_type": "stream",
     "text": [
      "Step: 500, Loss: 1539.889160, Accuracy: 0.955600\n",
      "Step: 1000, Loss: 972.987549, Accuracy: 0.971700\n",
      "Step: 1500, Loss: 789.961914, Accuracy: 0.974000\n",
      "Step: 2000, Loss: 643.896973, Accuracy: 0.978400\n",
      "Step: 2500, Loss: 602.963257, Accuracy: 0.980900\n",
      "Step: 3000, Loss: 555.896484, Accuracy: 0.981900\n",
      "Step: 3500, Loss: 457.530762, Accuracy: 0.985300\n",
      "Step: 4000, Loss: 430.855194, Accuracy: 0.987000\n",
      "Step: 4500, Loss: 404.523743, Accuracy: 0.986600\n",
      "Step: 5000, Loss: 407.742065, Accuracy: 0.987100\n",
      "Step: 5500, Loss: 374.555054, Accuracy: 0.988300\n",
      "Step: 6000, Loss: 382.756165, Accuracy: 0.986900\n",
      "Step: 6500, Loss: 355.421509, Accuracy: 0.988000\n",
      "Step: 7000, Loss: 355.007141, Accuracy: 0.988900\n",
      "Step: 7500, Loss: 327.024780, Accuracy: 0.989300\n",
      "Step: 8000, Loss: 340.774933, Accuracy: 0.988000\n",
      "Step: 8500, Loss: 347.032379, Accuracy: 0.988300\n",
      "Step: 9000, Loss: 311.977875, Accuracy: 0.990400\n",
      "Step: 9500, Loss: 337.671753, Accuracy: 0.988700\n",
      "Step: 10000, Loss: 319.527100, Accuracy: 0.989600\n",
      "Step: 10500, Loss: 293.324158, Accuracy: 0.990500\n",
      "Step: 11000, Loss: 288.691833, Accuracy: 0.990200\n",
      "Step: 11500, Loss: 294.355652, Accuracy: 0.990100\n",
      "Step: 12000, Loss: 308.601837, Accuracy: 0.990600\n",
      "Step: 12500, Loss: 300.200623, Accuracy: 0.989800\n",
      "Step: 13000, Loss: 294.467682, Accuracy: 0.991200\n",
      "Step: 13500, Loss: 273.863708, Accuracy: 0.991600\n",
      "Step: 14000, Loss: 282.099548, Accuracy: 0.990800\n",
      "Step: 14500, Loss: 274.422974, Accuracy: 0.991200\n",
      "Step: 15000, Loss: 269.755096, Accuracy: 0.991300\n",
      "Step: 15500, Loss: 273.898376, Accuracy: 0.991600\n",
      "Step: 16000, Loss: 253.827591, Accuracy: 0.991900\n",
      "Step: 16500, Loss: 273.175781, Accuracy: 0.991500\n",
      "Step: 17000, Loss: 278.549866, Accuracy: 0.990100\n",
      "Step: 17500, Loss: 278.320190, Accuracy: 0.991500\n",
      "Step: 18000, Loss: 258.416412, Accuracy: 0.991200\n",
      "Step: 18500, Loss: 285.394806, Accuracy: 0.990900\n",
      "Step: 19000, Loss: 290.716187, Accuracy: 0.991000\n",
      "Step: 19500, Loss: 272.024597, Accuracy: 0.991600\n",
      "Step: 20000, Loss: 269.107910, Accuracy: 0.991800\n"
     ]
    }
   ],
   "source": [
    "i = 0\n",
    "for _ in range(20000):\n",
    "    i += 1\n",
    "    batch_xs, batch_ts = mnist.train.next_batch(50)\n",
    "    sess.run(train_step,\n",
    "             feed_dict={x:batch_xs, t:batch_ts, keep_prob:0.5})\n",
    "    if i % 500 == 0:\n",
    "        loss_vals, acc_vals = [], []\n",
    "        for c in range(4):\n",
    "            start = len(mnist.test.labels) / 4 * c\n",
    "            end = len(mnist.test.labels) / 4 * (c+1)\n",
    "            loss_val, acc_val = sess.run([loss, accuracy],\n",
    "                feed_dict={x:mnist.test.images[start:end],\n",
    "                           t:mnist.test.labels[start:end],\n",
    "                           keep_prob:1.0})\n",
    "            loss_vals.append(loss_val)\n",
    "            acc_vals.append(acc_val)\n",
    "        loss_val = np.sum(loss_vals)\n",
    "        acc_val = np.mean(acc_vals)\n",
    "        print ('Step: %d, Loss: %f, Accuracy: %f'\n",
    "               % (i, loss_val, acc_val))\n",
    "        saver.save(sess, 'cnn_session', global_step=i)"
   ]
  },
  {
   "cell_type": "markdown",
   "metadata": {},
   "source": [
    "**[CNN-09]** セッション情報を保存したファイルが生成されていることを確認します。"
   ]
  },
  {
   "cell_type": "code",
   "execution_count": 9,
   "metadata": {
    "collapsed": false
   },
   "outputs": [
    {
     "name": "stdout",
     "output_type": "stream",
     "text": [
      "cnn_session-18000\tcnn_session-19000\tcnn_session-20000\r\n",
      "cnn_session-18000.meta\tcnn_session-19000.meta\tcnn_session-20000.meta\r\n",
      "cnn_session-18500\tcnn_session-19500\r\n",
      "cnn_session-18500.meta\tcnn_session-19500.meta\r\n"
     ]
    }
   ],
   "source": [
    "!ls cnn_session*"
   ]
  }
 ],
 "metadata": {
  "kernelspec": {
   "display_name": "Python 2",
   "language": "python",
   "name": "python2"
  },
  "language_info": {
   "codemirror_mode": {
    "name": "ipython",
    "version": 2
   },
   "file_extension": ".py",
   "mimetype": "text/x-python",
   "name": "python",
   "nbconvert_exporter": "python",
   "pygments_lexer": "ipython2",
   "version": "2.7.5"
  }
 },
 "nbformat": 4,
 "nbformat_minor": 0
}
