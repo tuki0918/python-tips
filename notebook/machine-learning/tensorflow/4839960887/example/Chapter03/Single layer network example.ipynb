{
 "cells": [
  {
   "cell_type": "markdown",
   "metadata": {},
   "source": [
    "**[SNE-01]** モジュールをインポートして、乱数のシードを設定します。"
   ]
  },
  {
   "cell_type": "code",
   "execution_count": 1,
   "metadata": {
    "collapsed": true
   },
   "outputs": [],
   "source": [
    "import tensorflow as tf\n",
    "import numpy as np\n",
    "import matplotlib.pyplot as plt\n",
    "from numpy.random import multivariate_normal, permutation\n",
    "import pandas as pd\n",
    "from pandas import DataFrame, Series\n",
    "\n",
    "np.random.seed(20160614)\n",
    "tf.set_random_seed(20160614)"
   ]
  },
  {
   "cell_type": "markdown",
   "metadata": {},
   "source": [
    "**[SNE-02]** トレーニングセットのデータを生成します。"
   ]
  },
  {
   "cell_type": "code",
   "execution_count": 2,
   "metadata": {
    "collapsed": false
   },
   "outputs": [],
   "source": [
    "def generate_datablock(n, mu, var, t):\n",
    "    data = multivariate_normal(mu, np.eye(2)*var, n)\n",
    "    df = DataFrame(data, columns=['x1','x2'])\n",
    "    df['t'] = t\n",
    "    return df\n",
    "\n",
    "df0 = generate_datablock(15, [7,7], 22, 0)\n",
    "df1 = generate_datablock(15, [22,7], 22, 0)\n",
    "df2 = generate_datablock(10, [7,22], 22, 0)\n",
    "df3 = generate_datablock(25, [20,20], 22, 1)\n",
    "\n",
    "df = pd.concat([df0, df1, df2, df3], ignore_index=True)\n",
    "train_set = df.reindex(permutation(df.index)).reset_index(drop=True)"
   ]
  },
  {
   "cell_type": "markdown",
   "metadata": {},
   "source": [
    "**[SNE-03]** (x1, x2) と t を別々に集めたものをNumPyのarrayオブジェクトとして取り出しておきます。"
   ]
  },
  {
   "cell_type": "code",
   "execution_count": 3,
   "metadata": {
    "collapsed": true
   },
   "outputs": [],
   "source": [
    "train_x = train_set[['x1','x2']].as_matrix()\n",
    "train_t = train_set['t'].as_matrix().reshape([len(train_set), 1])"
   ]
  },
  {
   "cell_type": "markdown",
   "metadata": {},
   "source": [
    "**[SNE-04]** 単層ネットワークによる二項分類器のモデルを定義します。"
   ]
  },
  {
   "cell_type": "code",
   "execution_count": 4,
   "metadata": {
    "collapsed": false
   },
   "outputs": [],
   "source": [
    "num_units = 2\n",
    "mult = train_x.flatten().mean()\n",
    "\n",
    "x = tf.placeholder(tf.float32, [None, 2])\n",
    "\n",
    "w1 = tf.Variable(tf.truncated_normal([2, num_units]))\n",
    "b1 = tf.Variable(tf.zeros([num_units]))\n",
    "hidden1 = tf.nn.tanh(tf.matmul(x, w1) + b1*mult)\n",
    "\n",
    "w0 = tf.Variable(tf.zeros([num_units, 1]))\n",
    "b0 = tf.Variable(tf.zeros([1]))\n",
    "p = tf.nn.sigmoid(tf.matmul(hidden1, w0) + b0*mult)"
   ]
  },
  {
   "cell_type": "markdown",
   "metadata": {},
   "source": [
    "**[SNE-05]** 誤差関数 loss、トレーニングアルゴリズム train_step、正解率 accuracy を定義します。"
   ]
  },
  {
   "cell_type": "code",
   "execution_count": 5,
   "metadata": {
    "collapsed": false
   },
   "outputs": [],
   "source": [
    "t = tf.placeholder(tf.float32, [None, 1])\n",
    "loss = -tf.reduce_sum(t*tf.log(p) + (1-t)*tf.log(1-p))\n",
    "train_step = tf.train.GradientDescentOptimizer(0.001).minimize(loss)\n",
    "correct_prediction = tf.equal(tf.sign(p-0.5), tf.sign(t-0.5))\n",
    "accuracy = tf.reduce_mean(tf.cast(correct_prediction, tf.float32))"
   ]
  },
  {
   "cell_type": "markdown",
   "metadata": {},
   "source": [
    "**[SNE-06]** セッションを用意して、Variableを初期化します。"
   ]
  },
  {
   "cell_type": "code",
   "execution_count": 6,
   "metadata": {
    "collapsed": false
   },
   "outputs": [],
   "source": [
    "sess = tf.InteractiveSession()\n",
    "sess.run(tf.initialize_all_variables())"
   ]
  },
  {
   "cell_type": "markdown",
   "metadata": {},
   "source": [
    "**[SNE-07]** パラメーターの最適化を1000回繰り返します。"
   ]
  },
  {
   "cell_type": "code",
   "execution_count": 7,
   "metadata": {
    "collapsed": false,
    "scrolled": true
   },
   "outputs": [
    {
     "name": "stdout",
     "output_type": "stream",
     "text": [
      "Step: 100, Loss: 44.921848, Accuracy: 0.430769\n",
      "Step: 200, Loss: 39.270321, Accuracy: 0.676923\n",
      "Step: 300, Loss: 51.999702, Accuracy: 0.584615\n",
      "Step: 400, Loss: 21.701561, Accuracy: 0.907692\n",
      "Step: 500, Loss: 12.708739, Accuracy: 0.953846\n",
      "Step: 600, Loss: 11.935550, Accuracy: 0.953846\n",
      "Step: 700, Loss: 11.454470, Accuracy: 0.953846\n",
      "Step: 800, Loss: 10.915851, Accuracy: 0.953846\n",
      "Step: 900, Loss: 10.570508, Accuracy: 0.953846\n",
      "Step: 1000, Loss: 11.822164, Accuracy: 0.953846\n"
     ]
    }
   ],
   "source": [
    "i = 0\n",
    "for _ in range(1000):\n",
    "    i += 1\n",
    "    sess.run(train_step, feed_dict={x:train_x, t:train_t})\n",
    "    if i % 100 == 0:\n",
    "        loss_val, acc_val = sess.run(\n",
    "            [loss, accuracy], feed_dict={x:train_x, t:train_t})\n",
    "        print ('Step: %d, Loss: %f, Accuracy: %f'\n",
    "               % (i, loss_val, acc_val))"
   ]
  },
  {
   "cell_type": "markdown",
   "metadata": {},
   "source": [
    "**[SNE-08]** 得られた確率を色の濃淡で図示します。"
   ]
  },
  {
   "cell_type": "code",
   "execution_count": 8,
   "metadata": {
    "collapsed": false
   },
   "outputs": [
    {
     "data": {
      "text/plain": [
       "<matplotlib.image.AxesImage at 0x5f22790>"
      ]
     },
     "execution_count": 8,
     "metadata": {},
     "output_type": "execute_result"
    },
    {
     "data": {
      "image/png": "[encoded data removed]",
      "text/plain": [
       "<matplotlib.figure.Figure at 0x5e1f7d0>"
      ]
     },
     "metadata": {},
     "output_type": "display_data"
    }
   ],
   "source": [
    "train_set1 = train_set[train_set['t']==1]\n",
    "train_set2 = train_set[train_set['t']==0]\n",
    "\n",
    "fig = plt.figure(figsize=(6,6))\n",
    "subplot = fig.add_subplot(1,1,1)\n",
    "subplot.set_ylim([0,30])\n",
    "subplot.set_xlim([0,30])\n",
    "subplot.scatter(train_set1.x1, train_set1.x2, marker='x')\n",
    "subplot.scatter(train_set2.x1, train_set2.x2, marker='o')\n",
    "\n",
    "locations = []\n",
    "for x2 in np.linspace(0,30,100):\n",
    "    for x1 in np.linspace(0,30,100):\n",
    "        locations.append((x1,x2))\n",
    "p_vals = sess.run(p, feed_dict={x:locations})\n",
    "p_vals = p_vals.reshape((100,100))\n",
    "subplot.imshow(p_vals, origin='lower', extent=(0,30,0,30),\n",
    "               cmap=plt.cm.gray_r, alpha=0.5)"
   ]
  }
 ],
 "metadata": {
  "kernelspec": {
   "display_name": "Python 2",
   "language": "python",
   "name": "python2"
  },
  "language_info": {
   "codemirror_mode": {
    "name": "ipython",
    "version": 2
   },
   "file_extension": ".py",
   "mimetype": "text/x-python",
   "name": "python",
   "nbconvert_exporter": "python",
   "pygments_lexer": "ipython2",
   "version": "2.7.5"
  }
 },
 "nbformat": 4,
 "nbformat_minor": 0
}
