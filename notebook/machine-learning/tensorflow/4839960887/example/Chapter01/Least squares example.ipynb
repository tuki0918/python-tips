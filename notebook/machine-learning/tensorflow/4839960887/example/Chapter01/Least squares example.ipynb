{
 "cells": [
  {
   "cell_type": "markdown",
   "metadata": {},
   "source": [
    "**[LSE-01]** モジュールをインポートします。"
   ]
  },
  {
   "cell_type": "code",
   "execution_count": 1,
   "metadata": {
    "collapsed": true
   },
   "outputs": [],
   "source": [
    "import tensorflow as tf\n",
    "import numpy as np\n",
    "import matplotlib.pyplot as plt"
   ]
  },
  {
   "cell_type": "markdown",
   "metadata": {},
   "source": [
    "**[LSE-02]** Placeholder x を定義します。"
   ]
  },
  {
   "cell_type": "code",
   "execution_count": 2,
   "metadata": {
    "collapsed": true
   },
   "outputs": [],
   "source": [
    "x = tf.placeholder(tf.float32, [None, 5])"
   ]
  },
  {
   "cell_type": "markdown",
   "metadata": {},
   "source": [
    "**[LSE-03]** Variable w を定義します。"
   ]
  },
  {
   "cell_type": "code",
   "execution_count": 3,
   "metadata": {
    "collapsed": true
   },
   "outputs": [],
   "source": [
    "w = tf.Variable(tf.zeros([5, 1]))"
   ]
  },
  {
   "cell_type": "markdown",
   "metadata": {},
   "source": [
    "**[LSE-04]** 計算式 y を定義します。"
   ]
  },
  {
   "cell_type": "code",
   "execution_count": 4,
   "metadata": {
    "collapsed": true
   },
   "outputs": [],
   "source": [
    "y = tf.matmul(x, w)"
   ]
  },
  {
   "cell_type": "markdown",
   "metadata": {},
   "source": [
    "**[LSE-05]** Placeholder t を定義します。"
   ]
  },
  {
   "cell_type": "code",
   "execution_count": 5,
   "metadata": {
    "collapsed": true
   },
   "outputs": [],
   "source": [
    "t = tf.placeholder(tf.float32, [None, 1])"
   ]
  },
  {
   "cell_type": "markdown",
   "metadata": {},
   "source": [
    "**[LSE-06]** 誤差関数 loss を定義します。"
   ]
  },
  {
   "cell_type": "code",
   "execution_count": 6,
   "metadata": {
    "collapsed": false
   },
   "outputs": [],
   "source": [
    "loss = tf.reduce_sum(tf.square(y-t))"
   ]
  },
  {
   "cell_type": "markdown",
   "metadata": {},
   "source": [
    "**[LSE-07]** トレーニングアルゴリズム train_step を定義します。"
   ]
  },
  {
   "cell_type": "code",
   "execution_count": 7,
   "metadata": {
    "collapsed": true
   },
   "outputs": [],
   "source": [
    "train_step = tf.train.AdamOptimizer().minimize(loss)"
   ]
  },
  {
   "cell_type": "markdown",
   "metadata": {},
   "source": [
    "**[LSE-08]** セッションを用意して、Variableを初期化します。"
   ]
  },
  {
   "cell_type": "code",
   "execution_count": 8,
   "metadata": {
    "collapsed": true
   },
   "outputs": [],
   "source": [
    "sess = tf.Session()\n",
    "sess.run(tf.initialize_all_variables())"
   ]
  },
  {
   "cell_type": "markdown",
   "metadata": {},
   "source": [
    "**[LSE-09]** トレーニングセットのデータを用意します。"
   ]
  },
  {
   "cell_type": "code",
   "execution_count": 9,
   "metadata": {
    "collapsed": false
   },
   "outputs": [],
   "source": [
    "train_t = np.array([5.2, 5.7, 8.6, 14.9, 18.2, 20.4,\n",
    "                    25.5, 26.4, 22.8, 17.5, 11.1, 6.6])\n",
    "train_t = train_t.reshape([12,1])\n",
    "\n",
    "train_x = np.zeros([12, 5])\n",
    "for row, month in enumerate(range(1, 13)):\n",
    "    for col, n in enumerate(range(0, 5)):\n",
    "        train_x[row][col] = month**n"
   ]
  },
  {
   "cell_type": "markdown",
   "metadata": {},
   "source": [
    "**[LSE-10]** 勾配降下法によるパラメーターの最適化を100000回繰り返します。"
   ]
  },
  {
   "cell_type": "code",
   "execution_count": 10,
   "metadata": {
    "collapsed": false
   },
   "outputs": [
    {
     "name": "stdout",
     "output_type": "stream",
     "text": [
      "Step: 10000, Loss: 31.014391\n",
      "Step: 20000, Loss: 29.295158\n",
      "Step: 30000, Loss: 28.033054\n",
      "Step: 40000, Loss: 26.855808\n",
      "Step: 50000, Loss: 25.771938\n",
      "Step: 60000, Loss: 26.711918\n",
      "Step: 70000, Loss: 24.436256\n",
      "Step: 80000, Loss: 22.975143\n",
      "Step: 90000, Loss: 22.194229\n",
      "Step: 100000, Loss: 21.434664\n"
     ]
    }
   ],
   "source": [
    "i = 0\n",
    "for _ in range(100000):\n",
    "    i += 1\n",
    "    sess.run(train_step, feed_dict={x:train_x, t:train_t})\n",
    "    if i % 10000 == 0:\n",
    "        loss_val = sess.run(loss, feed_dict={x:train_x, t:train_t})\n",
    "        print ('Step: %d, Loss: %f' % (i, loss_val))"
   ]
  },
  {
   "cell_type": "markdown",
   "metadata": {},
   "source": [
    "**[LSE-11]** さらに100000回繰り返します。"
   ]
  },
  {
   "cell_type": "code",
   "execution_count": 11,
   "metadata": {
    "collapsed": false
   },
   "outputs": [
    {
     "name": "stdout",
     "output_type": "stream",
     "text": [
      "Step: 110000, Loss: 20.749628\n",
      "Step: 120000, Loss: 20.167929\n",
      "Step: 130000, Loss: 19.527676\n",
      "Step: 140000, Loss: 18.983555\n",
      "Step: 150000, Loss: 18.480526\n",
      "Step: 160000, Loss: 18.012512\n",
      "Step: 170000, Loss: 17.615368\n",
      "Step: 180000, Loss: 17.179623\n",
      "Step: 190000, Loss: 16.879869\n",
      "Step: 200000, Loss: 20.717033\n"
     ]
    }
   ],
   "source": [
    "for _ in range(100000):\n",
    "    i += 1\n",
    "    sess.run(train_step, feed_dict={x:train_x, t:train_t})\n",
    "    if i % 10000 == 0:\n",
    "        loss_val = sess.run(loss, feed_dict={x:train_x, t:train_t})\n",
    "        print ('Step: %d, Loss: %f' % (i, loss_val))"
   ]
  },
  {
   "cell_type": "markdown",
   "metadata": {},
   "source": [
    "**[LSE-12]** トレーニング後のパラメーターの値を確認します。"
   ]
  },
  {
   "cell_type": "code",
   "execution_count": 12,
   "metadata": {
    "collapsed": false
   },
   "outputs": [
    {
     "name": "stdout",
     "output_type": "stream",
     "text": [
      "[[ 6.10566282]\n",
      " [-4.04159737]\n",
      " [ 2.51030278]\n",
      " [-0.2817387 ]\n",
      " [ 0.00828196]]\n"
     ]
    }
   ],
   "source": [
    "w_val = sess.run(w)\n",
    "print w_val"
   ]
  },
  {
   "cell_type": "markdown",
   "metadata": {},
   "source": [
    "**[LSE-13]** トレーニング後のパラメーターを用いて、予測気温を計算する関数を定義します。"
   ]
  },
  {
   "cell_type": "code",
   "execution_count": 13,
   "metadata": {
    "collapsed": false
   },
   "outputs": [],
   "source": [
    "def predict(x):\n",
    "    result = 0.0\n",
    "    for n in range(0, 5):\n",
    "        result += w_val[n][0] * x**n\n",
    "    return result"
   ]
  },
  {
   "cell_type": "markdown",
   "metadata": {},
   "source": [
    "**[LSE-14]** 予測気温のグラフを描きます。"
   ]
  },
  {
   "cell_type": "code",
   "execution_count": 14,
   "metadata": {
    "collapsed": false
   },
   "outputs": [
    {
     "data": {
      "text/plain": [
       "[<matplotlib.lines.Line2D at 0x65ec5d0>]"
      ]
     },
     "execution_count": 14,
     "metadata": {},
     "output_type": "execute_result"
    },
    {
     "data": {
      "image/png": "[encoded data removed]",
      "text/plain": [
       "<matplotlib.figure.Figure at 0x65f5110>"
      ]
     },
     "metadata": {},
     "output_type": "display_data"
    }
   ],
   "source": [
    "fig = plt.figure()\n",
    "subplot = fig.add_subplot(1,1,1)\n",
    "subplot.set_xlim(1,12)\n",
    "subplot.scatter(range(1,13), train_t)\n",
    "linex = np.linspace(1,12,100)\n",
    "liney = predict(linex)\n",
    "subplot.plot(linex, liney)"
   ]
  }
 ],
 "metadata": {
  "kernelspec": {
   "display_name": "Python 2",
   "language": "python",
   "name": "python2"
  },
  "language_info": {
   "codemirror_mode": {
    "name": "ipython",
    "version": 2
   },
   "file_extension": ".py",
   "mimetype": "text/x-python",
   "name": "python",
   "nbconvert_exporter": "python",
   "pygments_lexer": "ipython2",
   "version": "2.7.5"
  }
 },
 "nbformat": 4,
 "nbformat_minor": 0
}
