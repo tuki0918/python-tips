{
 "cells": [
  {
   "cell_type": "code",
   "execution_count": 9,
   "metadata": {
    "collapsed": true
   },
   "outputs": [],
   "source": [
    "import numpy as np\n",
    "import matplotlib.pyplot as plt\n",
    "from tensorflow.examples.tutorials.mnist import input_data"
   ]
  },
  {
   "cell_type": "code",
   "execution_count": 2,
   "metadata": {
    "collapsed": false
   },
   "outputs": [
    {
     "name": "stdout",
     "output_type": "stream",
     "text": [
      "Extracting /tmp/data/train-images-idx3-ubyte.gz\n",
      "Extracting /tmp/data/train-labels-idx1-ubyte.gz\n",
      "Extracting /tmp/data/t10k-images-idx3-ubyte.gz\n",
      "Extracting /tmp/data/t10k-labels-idx1-ubyte.gz\n"
     ]
    }
   ],
   "source": [
    "mnist = input_data.read_data_sets('/tmp/data/', one_hot=True)"
   ]
  },
  {
   "cell_type": "code",
   "execution_count": 21,
   "metadata": {
    "collapsed": true
   },
   "outputs": [],
   "source": [
    "images, labels = mnist.train.next_batch(30)"
   ]
  },
  {
   "cell_type": "code",
   "execution_count": 22,
   "metadata": {
    "collapsed": false
   },
   "outputs": [
    {
     "name": "stdout",
     "output_type": "stream",
     "text": [
      "[ 0.          0.          0.          0.          0.          0.          0.\n",
      "  0.          0.          0.          0.          0.          0.          0.\n",
      "  0.          0.          0.          0.          0.          0.          0.\n",
      "  0.          0.          0.          0.          0.          0.          0.\n",
      "  0.          0.          0.          0.          0.          0.          0.\n",
      "  0.          0.          0.          0.          0.          0.          0.\n",
      "  0.          0.          0.          0.          0.          0.          0.\n",
      "  0.          0.          0.          0.          0.          0.          0.\n",
      "  0.          0.          0.          0.          0.          0.          0.\n",
      "  0.          0.          0.          0.          0.          0.          0.\n",
      "  0.          0.          0.          0.          0.          0.          0.\n",
      "  0.          0.          0.          0.          0.          0.          0.\n",
      "  0.          0.          0.          0.          0.          0.          0.\n",
      "  0.          0.          0.          0.          0.          0.          0.\n",
      "  0.          0.          0.          0.          0.          0.          0.\n",
      "  0.          0.          0.          0.          0.          0.          0.\n",
      "  0.          0.          0.          0.          0.          0.          0.\n",
      "  0.          0.          0.          0.          0.          0.          0.\n",
      "  0.          0.          0.          0.          0.          0.          0.\n",
      "  0.          0.          0.          0.          0.          0.          0.\n",
      "  0.          0.          0.          0.          0.          0.          0.\n",
      "  0.          0.          0.          0.00392157  0.34901962  0.84313732\n",
      "  0.99607849  0.99607849  0.99607849  0.99607849  0.84313732  0.10588236\n",
      "  0.01568628  0.          0.          0.          0.          0.          0.\n",
      "  0.          0.          0.          0.          0.          0.          0.\n",
      "  0.          0.          0.          0.          0.00784314  0.42745101\n",
      "  0.99215692  0.99215692  0.98431379  0.9450981   0.95686281  0.99215692\n",
      "  0.99215692  0.99215692  0.82352948  0.09019608  0.          0.          0.\n",
      "  0.          0.          0.          0.          0.          0.          0.\n",
      "  0.          0.          0.          0.          0.          0.\n",
      "  0.40000004  0.99215692  0.99215692  0.98039222  0.48235297  0.\n",
      "  0.11764707  0.57647061  0.98039222  0.99215692  0.99215692  0.82352948\n",
      "  0.05490196  0.          0.          0.          0.          0.          0.\n",
      "  0.          0.          0.          0.          0.          0.          0.\n",
      "  0.          0.01176471  0.64705884  0.99215692  0.99215692  0.50980395\n",
      "  0.          0.          0.          0.          0.33333334  0.89411771\n",
      "  0.99215692  0.99215692  0.09411766  0.          0.          0.          0.\n",
      "  0.          0.          0.          0.          0.          0.          0.\n",
      "  0.          0.          0.          0.09803922  0.99215692  0.99215692\n",
      "  0.82745105  0.12156864  0.          0.          0.          0.          0.\n",
      "  0.76862752  0.99215692  0.99215692  0.09411766  0.          0.          0.\n",
      "  0.          0.          0.          0.          0.          0.          0.\n",
      "  0.          0.          0.          0.          0.41176474  0.99215692\n",
      "  0.97254908  0.29019609  0.          0.          0.          0.          0.\n",
      "  0.          0.1254902   0.90196085  0.99215692  0.4666667   0.01176471\n",
      "  0.          0.          0.          0.          0.          0.          0.\n",
      "  0.          0.          0.          0.          0.          0.0509804\n",
      "  0.85490203  0.99215692  0.84705889  0.          0.          0.          0.\n",
      "  0.          0.          0.          0.          0.52941179  0.99215692\n",
      "  0.99215692  0.15294118  0.          0.          0.          0.          0.\n",
      "  0.          0.          0.          0.          0.          0.          0.\n",
      "  0.07450981  0.99215692  0.99215692  0.84705889  0.          0.          0.\n",
      "  0.          0.          0.          0.          0.          0.36862746\n",
      "  0.99215692  0.99215692  0.5529412   0.          0.          0.          0.\n",
      "  0.          0.          0.          0.          0.          0.          0.\n",
      "  0.          0.07450981  0.99215692  0.99215692  0.74117649  0.          0.\n",
      "  0.          0.          0.          0.          0.          0.\n",
      "  0.36862746  0.99215692  0.99215692  0.5529412   0.          0.          0.\n",
      "  0.          0.          0.          0.          0.          0.          0.\n",
      "  0.          0.          0.43529415  0.99215692  0.99215692  0.36470589\n",
      "  0.          0.          0.          0.          0.          0.          0.\n",
      "  0.          0.36862746  0.99215692  0.99215692  0.5529412   0.          0.\n",
      "  0.          0.          0.          0.          0.          0.          0.\n",
      "  0.          0.          0.          0.56078434  0.99215692  0.99215692\n",
      "  0.36470589  0.          0.          0.          0.          0.          0.\n",
      "  0.          0.          0.36862746  0.99215692  0.99215692  0.5529412   0.\n",
      "  0.          0.          0.          0.          0.          0.          0.\n",
      "  0.          0.          0.          0.          0.56078434  0.99215692\n",
      "  0.99215692  0.36470589  0.          0.          0.          0.          0.\n",
      "  0.          0.          0.          0.36862746  0.99215692  0.99215692\n",
      "  0.5529412   0.          0.          0.          0.          0.          0.\n",
      "  0.          0.          0.          0.          0.          0.\n",
      "  0.56078434  0.99215692  0.95294124  0.24705884  0.          0.          0.\n",
      "  0.          0.          0.          0.          0.          0.36862746\n",
      "  0.99215692  0.99215692  0.4039216   0.          0.          0.          0.\n",
      "  0.          0.          0.          0.          0.          0.          0.\n",
      "  0.          0.56078434  0.99215692  0.97254908  0.3019608   0.          0.\n",
      "  0.          0.          0.          0.          0.          0.11764707\n",
      "  0.81960791  0.99215692  0.99215692  0.07058824  0.          0.          0.\n",
      "  0.          0.          0.          0.          0.          0.          0.\n",
      "  0.          0.          0.38431376  0.99215692  0.99215692  0.77647066\n",
      "  0.          0.          0.          0.          0.          0.          0.\n",
      "  0.75686282  0.99215692  0.99215692  0.46274513  0.01176471  0.          0.\n",
      "  0.          0.          0.          0.          0.          0.          0.\n",
      "  0.          0.          0.          0.07450981  0.99215692  0.99215692\n",
      "  0.84705889  0.          0.          0.          0.          0.          0.\n",
      "  0.47450984  0.97254908  0.99215692  0.83921576  0.05882353  0.          0.\n",
      "  0.          0.          0.          0.          0.          0.          0.\n",
      "  0.          0.          0.          0.          0.04313726  0.82352948\n",
      "  0.99215692  0.98039222  0.57647061  0.13333334  0.          0.          0.\n",
      "  0.26666668  0.97647065  0.99215692  0.83921576  0.11764707  0.          0.\n",
      "  0.          0.          0.          0.          0.          0.          0.\n",
      "  0.          0.          0.          0.          0.          0.\n",
      "  0.09019608  0.82352948  0.99215692  0.99215692  0.85098046  0.43921572\n",
      "  0.43921572  0.80784321  0.9450981   0.99215692  0.99215692  0.41568631\n",
      "  0.          0.          0.          0.          0.          0.          0.\n",
      "  0.          0.          0.          0.          0.          0.          0.\n",
      "  0.          0.          0.          0.32941177  0.82352948  0.99215692\n",
      "  0.99215692  0.99215692  0.99215692  0.99215692  0.99215692  0.84705889\n",
      "  0.1254902   0.00784314  0.          0.          0.          0.          0.\n",
      "  0.          0.          0.          0.          0.          0.          0.\n",
      "  0.          0.          0.          0.          0.          0.\n",
      "  0.01568628  0.10588236  0.50588238  0.74509805  0.50588238  0.50588238\n",
      "  0.1254902   0.01568628  0.          0.          0.          0.          0.\n",
      "  0.          0.          0.          0.          0.          0.          0.\n",
      "  0.          0.          0.          0.          0.          0.          0.\n",
      "  0.          0.          0.          0.          0.          0.          0.\n",
      "  0.          0.          0.          0.          0.          0.          0.\n",
      "  0.          0.          0.          0.          0.          0.          0.\n",
      "  0.          0.          0.          0.          0.          0.          0.\n",
      "  0.          0.          0.          0.          0.          0.          0.\n",
      "  0.          0.          0.          0.          0.          0.          0.\n",
      "  0.          0.          0.          0.          0.          0.          0.\n",
      "  0.          0.          0.          0.          0.          0.          0.\n",
      "  0.          0.          0.          0.          0.          0.          0.\n",
      "  0.          0.          0.          0.          0.          0.          0.\n",
      "  0.          0.          0.          0.          0.        ]\n"
     ]
    }
   ],
   "source": [
    "print(images[0])"
   ]
  },
  {
   "cell_type": "code",
   "execution_count": 23,
   "metadata": {
    "collapsed": false
   },
   "outputs": [
    {
     "name": "stdout",
     "output_type": "stream",
     "text": [
      "[ 1.  0.  0.  0.  0.  0.  0.  0.  0.  0.]\n"
     ]
    }
   ],
   "source": [
    "print(labels[0])"
   ]
  },
  {
   "cell_type": "code",
   "execution_count": 28,
   "metadata": {
    "collapsed": false
   },
   "outputs": [
    {
     "data": {
      "image/png": "[encoded data removed]",
      "text/plain": [
       "<matplotlib.figure.Figure at 0x7fcd413b16a0>"
      ]
     },
     "metadata": {},
     "output_type": "display_data"
    }
   ],
   "source": [
    "fig = plt.figure(figsize=(10, 10))\n",
    "for c, (image, label) in enumerate(zip(images, labels)):\n",
    "    subplot = fig.add_subplot(6, 5, c + 1)\n",
    "    subplot.set_xticks([])\n",
    "    subplot.set_yticks([])\n",
    "    subplot.set_title('%d' % np.argmax(label))\n",
    "    subplot.imshow(image.reshape((28, 28)), vmin=0, vmax=1, cmap=plt.cm.gray_r, interpolation='nearest')\n",
    "plt.show()"
   ]
  },
  {
   "cell_type": "code",
   "execution_count": null,
   "metadata": {
    "collapsed": true
   },
   "outputs": [],
   "source": []
  }
 ],
 "metadata": {
  "kernelspec": {
   "display_name": "Python 3",
   "language": "python",
   "name": "python3"
  },
  "language_info": {
   "codemirror_mode": {
    "name": "ipython",
    "version": 3
   },
   "file_extension": ".py",
   "mimetype": "text/x-python",
   "name": "python",
   "nbconvert_exporter": "python",
   "pygments_lexer": "ipython3",
   "version": "3.6.0"
  }
 },
 "nbformat": 4,
 "nbformat_minor": 2
}
